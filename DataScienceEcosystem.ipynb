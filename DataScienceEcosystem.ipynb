{
 "cells": [
  {
   "cell_type": "markdown",
   "id": "878fb3d1-fda9-44d3-a837-eeabc1801a7c",
   "metadata": {},
   "source": [
    "# Data Science Tools and Ecosystem\n",
    "## Author\n",
    "Michael Hoffman"
   ]
  },
  {
   "cell_type": "markdown",
   "id": "2de8d9bb-88ce-4a9a-9401-bff55ac8a08d",
   "metadata": {},
   "source": [
    "In this notebook, Data Science Tools and Ecosystem are summarized"
   ]
  },
  {
   "cell_type": "markdown",
   "id": "1b541bfd-f924-4fac-8f23-1974e0bf7b6d",
   "metadata": {},
   "source": [
    "**Objectives:**\n",
    "* List Popular Languages for Data Science\n",
    "* List popular Libraries for Data Science\n",
    "* Showcase Arithmetic Functionalities in Python"
   ]
  },
  {
   "cell_type": "markdown",
   "id": "8e4a4187-1a78-4fcb-8717-fce542982fa1",
   "metadata": {},
   "source": [
    "Some of the popular languages that Data Scientists use are:\n",
    "1. Python\n",
    "2. R\n",
    "3. Java"
   ]
  },
  {
   "cell_type": "markdown",
   "id": "6ef6ad2f-e4be-40b5-af73-cd75bac15938",
   "metadata": {},
   "source": [
    "Some of the commonly used libraries used by Data Scientists include:\n",
    "1. Pandas\n",
    "2. Matplotlib\n",
    "3. Scikit-learn"
   ]
  },
  {
   "cell_type": "markdown",
   "id": "c65bfadf-ed9a-46ac-8112-5030b022e2f1",
   "metadata": {},
   "source": [
    "| Data Science Tools|\n",
    "|-------------------|\n",
    "|R-Studio|\n",
    "|Jupyter Notebook|\n",
    "|Visual Studio|"
   ]
  },
  {
   "cell_type": "markdown",
   "id": "5d0b1749-7382-4e7f-acb3-f3b7a8f0277b",
   "metadata": {},
   "source": [
    "### Below are a few examples of evaluating arithmetic expressions in Python"
   ]
  },
  {
   "cell_type": "code",
   "execution_count": 1,
   "id": "a2d8fcc9-4ad4-41ee-a4dd-5fddb9714f47",
   "metadata": {
    "tags": []
   },
   "outputs": [
    {
     "data": {
      "text/plain": [
       "17"
      ]
     },
     "execution_count": 1,
     "metadata": {},
     "output_type": "execute_result"
    }
   ],
   "source": [
    "# This is a simple arithmetic expression to multiply then add integers\n",
    "(3*4)+5"
   ]
  },
  {
   "cell_type": "code",
   "execution_count": 6,
   "id": "f2461bd1-ccb9-40bf-92be-c761f249b869",
   "metadata": {
    "tags": []
   },
   "outputs": [
    {
     "data": {
      "text/plain": [
       "3.33"
      ]
     },
     "execution_count": 6,
     "metadata": {},
     "output_type": "execute_result"
    }
   ],
   "source": [
    "# This will convert 200 minutes to hours by dividing by 60\n",
    "round(200/60,2)"
   ]
  },
  {
   "cell_type": "markdown",
   "id": "7ed63485-cd25-4ae4-9428-1f33c5c42bc1",
   "metadata": {},
   "source": []
  }
 ],
 "metadata": {
  "kernelspec": {
   "display_name": "Python",
   "language": "python",
   "name": "conda-env-python-py"
  },
  "language_info": {
   "codemirror_mode": {
    "name": "ipython",
    "version": 3
   },
   "file_extension": ".py",
   "mimetype": "text/x-python",
   "name": "python",
   "nbconvert_exporter": "python",
   "pygments_lexer": "ipython3",
   "version": "3.7.12"
  }
 },
 "nbformat": 4,
 "nbformat_minor": 5
}
